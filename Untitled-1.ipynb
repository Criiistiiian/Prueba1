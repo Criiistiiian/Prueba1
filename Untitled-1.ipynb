{
 "cells": [
  {
   "cell_type": "code",
   "execution_count": 4,
   "metadata": {},
   "outputs": [
    {
     "name": "stdout",
     "output_type": "stream",
     "text": [
      "Hola\n"
     ]
    }
   ],
   "source": [
    "print(\"Hola\")"
   ]
  },
  {
   "cell_type": "markdown",
   "metadata": {},
   "source": [
    "prueba"
   ]
  },
  {
   "cell_type": "markdown",
   "metadata": {},
   "source": [
    "lista"
   ]
  },
  {
   "cell_type": "code",
<<<<<<< HEAD
   "execution_count": 2,
=======
   "execution_count": 5,
>>>>>>> 265335349b6f7e48df762328551ab58709495069
   "metadata": {},
   "outputs": [
    {
     "name": "stdout",
     "output_type": "stream",
     "text": [
<<<<<<< HEAD
      "['manzana', 'banana', 'peras', 'fresa', 'Ki']\n"
=======
      "['manzana', 'banana', 'peras', 'fresa', 'Kiwi']\n"
>>>>>>> 265335349b6f7e48df762328551ab58709495069
     ]
    }
   ],
   "source": [
    "frutas =[\"manzana\",\"banana\",\"peras\"]\n",
    "frutas.append(\"fresa\")\n",
<<<<<<< HEAD
    "frutas.append(\"Ki\")\n",
=======
    "frutas.append(\"Kiwi\")\n",
>>>>>>> 265335349b6f7e48df762328551ab58709495069
    "print(frutas)\n",
    " "
   ]
  }
 ],
 "metadata": {
  "kernelspec": {
   "display_name": "Python 3",
   "language": "python",
   "name": "python3"
  },
  "language_info": {
   "codemirror_mode": {
    "name": "ipython",
    "version": 3
   },
   "file_extension": ".py",
   "mimetype": "text/x-python",
   "name": "python",
   "nbconvert_exporter": "python",
   "pygments_lexer": "ipython3",
<<<<<<< HEAD
   "version": "3.12.7"
=======
   "version": "3.12.5"
>>>>>>> 265335349b6f7e48df762328551ab58709495069
  }
 },
 "nbformat": 4,
 "nbformat_minor": 2
}
